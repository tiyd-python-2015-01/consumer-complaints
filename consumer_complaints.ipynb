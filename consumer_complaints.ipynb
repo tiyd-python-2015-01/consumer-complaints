{
 "metadata": {
  "name": "",
  "signature": "sha256:fa90b858e97578897a3c10d4c65cbd7bb24cc9c5053411ce0a53a58a8a714c05"
 },
 "nbformat": 3,
 "nbformat_minor": 0,
 "worksheets": [
  {
   "cells": [
    {
     "cell_type": "heading",
     "level": 1,
     "metadata": {},
     "source": [
      "Normal Mode"
     ]
    },
    {
     "cell_type": "code",
     "collapsed": false,
     "input": [
      "import pandas as pd\n",
      "import matplotlib.pyplot as ply\n",
      "import seaborn as sbn\n",
      "import numpy as np\n",
      "%matplotlib inline\n",
      "\n",
      "cc_file = pd.read_csv(\"complaints_dec_2014.csv\")\n",
      "\n",
      "cc_file.index = pd.to_datetime(cc_file.pop(\"Date received\"), format(\"%Y%m%d\"))"
     ],
     "language": "python",
     "metadata": {},
     "outputs": [],
     "prompt_number": 1
    },
    {
     "cell_type": "heading",
     "level": 6,
     "metadata": {},
     "source": [
      "Number of complaints by product"
     ]
    },
    {
     "cell_type": "code",
     "collapsed": false,
     "input": [
      "product_compl = cc_file.Product.value_counts()[::-1]\n",
      "product_compl"
     ],
     "language": "python",
     "metadata": {},
     "outputs": [
      {
       "metadata": {},
       "output_type": "pyout",
       "prompt_number": 2,
       "text": [
        "Other financial service      14\n",
        "Prepaid card                 70\n",
        "Money transfers             107\n",
        "Payday loan                 141\n",
        "Student loan                340\n",
        "Consumer loan               578\n",
        "Credit card                1100\n",
        "Bank account or service    1136\n",
        "Credit reporting           2113\n",
        "Debt collection            2942\n",
        "Mortgage                   3002\n",
        "dtype: int64"
       ]
      }
     ],
     "prompt_number": 2
    },
    {
     "cell_type": "code",
     "collapsed": false,
     "input": [
      "mean_product_compl = product_compl.mean()"
     ],
     "language": "python",
     "metadata": {},
     "outputs": [],
     "prompt_number": 3
    },
    {
     "cell_type": "code",
     "collapsed": false,
     "input": [
      "product_compl.plot(kind='barh', figsize=(8,8), color = sbn.color_palette())\n",
      "ply.axvline(mean_product_compl, linewidth=2, color = 'r', linestyle='dashed')"
     ],
     "language": "python",
     "metadata": {},
     "outputs": [
      {
       "metadata": {},
       "output_type": "pyout",
       "prompt_number": 4,
       "text": [
        "<matplotlib.lines.Line2D at 0x10f5c0240>"
       ]
      },
      {
       "metadata": {},
       "output_type": "display_data",
       "png": "[encoded data removed]",
       "text": [
        "<matplotlib.figure.Figure at 0x10f5c02e8>"
       ]
      }
     ],
     "prompt_number": 4
    },
    {
     "cell_type": "markdown",
     "metadata": {},
     "source": [
      "The dotted red line shows the mean complaints across all products. You can see that 3 products are responsible for the large majority of complaints: 'Mortgage' and 'Debt collection'. "
     ]
    },
    {
     "cell_type": "heading",
     "level": 6,
     "metadata": {},
     "source": [
      "Number of complaints by company (top 10 companies only)"
     ]
    },
    {
     "cell_type": "code",
     "collapsed": false,
     "input": [
      "top_complaints_comp = cc_file['Company'].value_counts()[:10]\n",
      "top_complaints_comp"
     ],
     "language": "python",
     "metadata": {},
     "outputs": [
      {
       "metadata": {},
       "output_type": "pyout",
       "prompt_number": 5,
       "text": [
        "Bank of America        766\n",
        "Equifax                737\n",
        "Experian               675\n",
        "TransUnion             604\n",
        "Wells Fargo            598\n",
        "JPMorgan Chase         545\n",
        "Ocwen                  408\n",
        "Citibank               403\n",
        "Nationstar Mortgage    357\n",
        "Capital One            252\n",
        "dtype: int64"
       ]
      }
     ],
     "prompt_number": 5
    },
    {
     "cell_type": "code",
     "collapsed": false,
     "input": [
      "mean_complaints_comp = cc_file['Company'].value_counts().mean()\n",
      "mean_complaints_comp"
     ],
     "language": "python",
     "metadata": {},
     "outputs": [
      {
       "metadata": {},
       "output_type": "pyout",
       "prompt_number": 6,
       "text": [
        "11.542999999999999"
       ]
      }
     ],
     "prompt_number": 6
    },
    {
     "cell_type": "code",
     "collapsed": false,
     "input": [
      "top_complaints_comp[::-1].plot(kind='barh', figsize =(8,8), color = sbn.color_palette())\n",
      "ply.axvline(mean_complaints_comp, linewidth=2, color = 'r', linestyle='dashed')"
     ],
     "language": "python",
     "metadata": {},
     "outputs": [
      {
       "metadata": {},
       "output_type": "pyout",
       "prompt_number": 7,
       "text": [
        "<matplotlib.lines.Line2D at 0x10e7e1630>"
       ]
      },
      {
       "metadata": {},
       "output_type": "display_data",
       "png": "[encoded data removed]",
       "text": [
        "<matplotlib.figure.Figure at 0x10e71c5c0>"
       ]
      }
     ],
     "prompt_number": 7
    },
    {
     "cell_type": "markdown",
     "metadata": {},
     "source": [
      "BOA is responsible for the most complaints and Capital One is responsible for the least amount of complaints (out of the top 10). All of the top 10 produce far more than the mean complaints per company as defined by the dotted red line. In reference to the rest of the listed companies, these top 10 have FAR more complaints on average."
     ]
    },
    {
     "cell_type": "heading",
     "level": 6,
     "metadata": {},
     "source": [
      "Number of complaints by company response"
     ]
    },
    {
     "cell_type": "code",
     "collapsed": false,
     "input": [
      "num_complaints_resp = cc_file['Company response'].value_counts()[::-1]\n",
      "num_complaints_resp"
     ],
     "language": "python",
     "metadata": {},
     "outputs": [
      {
       "metadata": {},
       "output_type": "pyout",
       "prompt_number": 8,
       "text": [
        "Untimely response                   167\n",
        "Closed                              239\n",
        "Closed with monetary relief         643\n",
        "In progress                        1056\n",
        "Closed with non-monetary relief    1253\n",
        "Closed with explanation            8185\n",
        "dtype: int64"
       ]
      }
     ],
     "prompt_number": 8
    },
    {
     "cell_type": "code",
     "collapsed": false,
     "input": [
      "mean_num_complaints_resp = num_complaints_resp.mean()\n",
      "mean_num_complaints_resp"
     ],
     "language": "python",
     "metadata": {},
     "outputs": [
      {
       "metadata": {},
       "output_type": "pyout",
       "prompt_number": 9,
       "text": [
        "1923.8333333333333"
       ]
      }
     ],
     "prompt_number": 9
    },
    {
     "cell_type": "code",
     "collapsed": false,
     "input": [
      "num_complaints_resp.plot(kind='barh', figsize=(7,7), color = sbn.color_palette())\n",
      "ply.axvline(mean_num_complaints_resp, linewidth=2, color = 'r', linestyle='dashed')"
     ],
     "language": "python",
     "metadata": {},
     "outputs": [
      {
       "metadata": {},
       "output_type": "pyout",
       "prompt_number": 10,
       "text": [
        "<matplotlib.lines.Line2D at 0x10f5c0320>"
       ]
      },
      {
       "metadata": {},
       "output_type": "display_data",
       "png": "[encoded data removed]",
       "text": [
        "<matplotlib.figure.Figure at 0x10ea08a58>"
       ]
      }
     ],
     "prompt_number": 10
    },
    {
     "cell_type": "markdown",
     "metadata": {},
     "source": [
      "A very large percentage of the complaints were 'closed with explanation', which is good to hear. The mean was just a hair under 2,000 and all responses were far below that except the expected outcome."
     ]
    },
    {
     "cell_type": "heading",
     "level": 6,
     "metadata": {},
     "source": [
      "Mean number of complaints by day of week"
     ]
    },
    {
     "cell_type": "code",
     "collapsed": false,
     "input": [
      "temp = pd.DatetimeIndex(cc_file.index)\n",
      "cc_file['weekday'] = temp.weekday"
     ],
     "language": "python",
     "metadata": {},
     "outputs": [],
     "prompt_number": 11
    },
    {
     "cell_type": "code",
     "collapsed": false,
     "input": [
      "weekday_count = cc_file.weekday.value_counts()\n",
      "weekday_count.index = ['tuesday', 'monday', 'wednesday', 'thursday', 'friday', 'saturday', 'sunday']\n",
      "day_count = [5,5,5,4,4,4,4]\n",
      "weekday_count = weekday_count / day_count\n",
      "weekday_count"
     ],
     "language": "python",
     "metadata": {},
     "outputs": [
      {
       "metadata": {},
       "output_type": "pyout",
       "prompt_number": 12,
       "text": [
        "tuesday      516.00\n",
        "monday       508.80\n",
        "wednesday    457.80\n",
        "thursday     408.50\n",
        "friday       361.50\n",
        "saturday     135.75\n",
        "sunday       126.75\n",
        "dtype: float64"
       ]
      }
     ],
     "prompt_number": 12
    },
    {
     "cell_type": "code",
     "collapsed": false,
     "input": [
      "weekday_count.plot(kind='barh', figsize =(8,8), color = sbn.color_palette())"
     ],
     "language": "python",
     "metadata": {},
     "outputs": [
      {
       "metadata": {},
       "output_type": "pyout",
       "prompt_number": 13,
       "text": [
        "<matplotlib.axes._subplots.AxesSubplot at 0x10ea290f0>"
       ]
      },
      {
       "metadata": {},
       "output_type": "display_data",
       "png": "[encoded data removed]",
       "text": [
        "<matplotlib.figure.Figure at 0x10eb84e48>"
       ]
      }
     ],
     "prompt_number": 13
    },
    {
     "cell_type": "markdown",
     "metadata": {},
     "source": [
      "The weekends have a very low amount of complaints as compared to the rest of the week. Tuesday is the highest and Friday is the lowest for during the week complaints."
     ]
    },
    {
     "cell_type": "heading",
     "level": 6,
     "metadata": {},
     "source": [
      "Any other insights you find interesting"
     ]
    },
    {
     "cell_type": "code",
     "collapsed": false,
     "input": [
      "timely_resp = cc_file['Timely response?'].value_counts()[::-1]\n",
      "timely_resp.plot(kind='pie', figsize=(7,7), colors = ['red','green'], autopct='%.2f')"
     ],
     "language": "python",
     "metadata": {},
     "outputs": [
      {
       "metadata": {},
       "output_type": "pyout",
       "prompt_number": 14,
       "text": [
        "<matplotlib.axes._subplots.AxesSubplot at 0x10e86c438>"
       ]
      },
      {
       "metadata": {},
       "output_type": "display_data",
       "png": "[encoded data removed]",
       "text": [
        "<matplotlib.figure.Figure at 0x10ebbec88>"
       ]
      }
     ],
     "prompt_number": 14
    },
    {
     "cell_type": "markdown",
     "metadata": {},
     "source": [
      "Percentage of responses that were timely was 96.94%. ~3.06% of all cases are not responded to quick enough. They need to get that lower, although I have no point of reference, so this could be really good..."
     ]
    },
    {
     "cell_type": "heading",
     "level": 1,
     "metadata": {},
     "source": [
      "Hard Mode"
     ]
    },
    {
     "cell_type": "heading",
     "level": 6,
     "metadata": {},
     "source": [
      "Combine the complaints data with US population by state data (find this yourself) and then chart the frequency of complaints by state per capita."
     ]
    },
    {
     "cell_type": "code",
     "collapsed": false,
     "input": [
      "abbr_file = pd.read_csv('states.csv')\n",
      "abbr_file.index = abbr_file['state']"
     ],
     "language": "python",
     "metadata": {},
     "outputs": [],
     "prompt_number": 15
    },
    {
     "cell_type": "code",
     "collapsed": false,
     "input": [
      "state_complaints = cc_file['State'].value_counts()"
     ],
     "language": "python",
     "metadata": {},
     "outputs": [],
     "prompt_number": 16
    },
    {
     "cell_type": "code",
     "collapsed": false,
     "input": [
      "combined_state = pd.concat([state_complaints, abbr_file], axis=1)\n",
      "combined_state = combined_state[pd.notnull(combined_state['state'])]"
     ],
     "language": "python",
     "metadata": {},
     "outputs": [],
     "prompt_number": 17
    },
    {
     "cell_type": "code",
     "collapsed": false,
     "input": [
      "complaints_per_ten_thousand = combined_state[0] / combined_state['pop'] * 10000\n",
      "mean_comp_per_ten_thousand = complaints_per_ten_thousand.mean()"
     ],
     "language": "python",
     "metadata": {},
     "outputs": [],
     "prompt_number": 18
    },
    {
     "cell_type": "code",
     "collapsed": false,
     "input": [
      "complaints_per_ten_thousand.plot(kind='barh', figsize =(9,9), color = sbn.color_palette())\n",
      "ply.axvline(mean_comp_per_ten_thousand, linewidth=2, color = 'r', linestyle='dashed')"
     ],
     "language": "python",
     "metadata": {},
     "outputs": [
      {
       "metadata": {},
       "output_type": "pyout",
       "prompt_number": 19,
       "text": [
        "<matplotlib.lines.Line2D at 0x10eec53c8>"
       ]
      },
      {
       "metadata": {},
       "output_type": "display_data",
       "png": "[encoded data removed]",
       "text": [
        "<matplotlib.figure.Figure at 0x10eec52e8>"
       ]
      }
     ],
     "prompt_number": 19
    },
    {
     "cell_type": "heading",
     "level": 6,
     "metadata": {},
     "source": [
      "Find statistically significant outliers of complaints by ZIP code. Look these up to see if there's a possible reason (military bases are often surrounded by predatory lending companies, for example.)"
     ]
    },
    {
     "cell_type": "code",
     "collapsed": false,
     "input": [
      "zip_codes = cc_file['ZIP code'].value_counts()[:10]"
     ],
     "language": "python",
     "metadata": {},
     "outputs": [],
     "prompt_number": 41
    },
    {
     "cell_type": "code",
     "collapsed": false,
     "input": [
      "zip_codes_mean = zip_codes.mean()\n",
      "zip_codes_mean"
     ],
     "language": "python",
     "metadata": {},
     "outputs": [
      {
       "metadata": {},
       "output_type": "pyout",
       "prompt_number": 21,
       "text": [
        "3.1617995264404106"
       ]
      }
     ],
     "prompt_number": 21
    },
    {
     "cell_type": "code",
     "collapsed": false,
     "input": [
      "zip_codes.plot(kind ='box', figsize =(9,9))"
     ],
     "language": "python",
     "metadata": {},
     "outputs": [
      {
       "metadata": {},
       "output_type": "pyout",
       "prompt_number": 34,
       "text": [
        "<matplotlib.axes._subplots.AxesSubplot at 0x10f6290b8>"
       ]
      },
      {
       "metadata": {},
       "output_type": "display_data",
       "png": "[encoded data removed]",
       "text": [
        "<matplotlib.figure.Figure at 0x10f632a58>"
       ]
      }
     ],
     "prompt_number": 34
    },
    {
     "cell_type": "heading",
     "level": 1,
     "metadata": {},
     "source": [
      "Nightmare"
     ]
    },
    {
     "cell_type": "heading",
     "level": 6,
     "metadata": {},
     "source": [
      "Take the frequency of complaints by state per capita and then make a chart of the US, with frequency of complaints matched to a scale of lighter color (low frequency) to darker color (high frequency), with a legend."
     ]
    },
    {
     "cell_type": "code",
     "collapsed": false,
     "input": [
      "unempl_file = pd.read_csv(\"unemployed.csv\")\n",
      "unempl_file.index = unempl_file['Zip']\n",
      "unempl_file.head()"
     ],
     "language": "python",
     "metadata": {},
     "outputs": [
      {
       "html": [
        "<div style=\"max-height:1000px;max-width:1500px;overflow:auto;\">\n",
        "<table border=\"1\" class=\"dataframe\">\n",
        "  <thead>\n",
        "    <tr style=\"text-align: right;\">\n",
        "      <th></th>\n",
        "      <th>Zip</th>\n",
        "      <th>Unemp. Rate</th>\n",
        "    </tr>\n",
        "    <tr>\n",
        "      <th>Zip</th>\n",
        "      <th></th>\n",
        "      <th></th>\n",
        "    </tr>\n",
        "  </thead>\n",
        "  <tbody>\n",
        "    <tr>\n",
        "      <th>1074</th>\n",
        "      <td> 1074</td>\n",
        "      <td> 0%</td>\n",
        "    </tr>\n",
        "    <tr>\n",
        "      <th>1086</th>\n",
        "      <td> 1086</td>\n",
        "      <td> 0%</td>\n",
        "    </tr>\n",
        "    <tr>\n",
        "      <th>1094</th>\n",
        "      <td> 1094</td>\n",
        "      <td> 0%</td>\n",
        "    </tr>\n",
        "    <tr>\n",
        "      <th>1222</th>\n",
        "      <td> 1222</td>\n",
        "      <td> 0%</td>\n",
        "    </tr>\n",
        "    <tr>\n",
        "      <th>1242</th>\n",
        "      <td> 1242</td>\n",
        "      <td> 0%</td>\n",
        "    </tr>\n",
        "  </tbody>\n",
        "</table>\n",
        "</div>"
       ],
       "metadata": {},
       "output_type": "pyout",
       "prompt_number": 57,
       "text": [
        "       Zip Unemp. Rate\n",
        "Zip                   \n",
        "1074  1074          0%\n",
        "1086  1086          0%\n",
        "1094  1094          0%\n",
        "1222  1222          0%\n",
        "1242  1242          0%"
       ]
      }
     ],
     "prompt_number": 57
    },
    {
     "cell_type": "code",
     "collapsed": false,
     "input": [
      "combined_zip_unempl = pd.concat([unempl_file, zip_codes], axis=1)\n",
      "combined_zip_unempl = combined_zip_unempl[pd.notnull(combined_zip_unempl['Unemp. Rate'])]\n",
      "combined_zip_unempl = combined_zip_unempl[pd.notnull(combined_zip_unempl[0])]\n",
      "sorted_unemp = combined_zip_unempl.sort(columns =[0], ascending=False)"
     ],
     "language": "python",
     "metadata": {},
     "outputs": [],
     "prompt_number": 102
    },
    {
     "cell_type": "code",
     "collapsed": false,
     "input": [
      "sorted_unemp"
     ],
     "language": "python",
     "metadata": {},
     "outputs": [
      {
       "html": [
        "<div style=\"max-height:1000px;max-width:1500px;overflow:auto;\">\n",
        "<table border=\"1\" class=\"dataframe\">\n",
        "  <thead>\n",
        "    <tr style=\"text-align: right;\">\n",
        "      <th></th>\n",
        "      <th>Zip</th>\n",
        "      <th>Unemp. Rate</th>\n",
        "      <th>0</th>\n",
        "    </tr>\n",
        "  </thead>\n",
        "  <tbody>\n",
        "    <tr>\n",
        "      <th>60445</th>\n",
        "      <td> 60445</td>\n",
        "      <td>  8%</td>\n",
        "      <td> 42</td>\n",
        "    </tr>\n",
        "    <tr>\n",
        "      <th>94030</th>\n",
        "      <td> 94030</td>\n",
        "      <td>  4%</td>\n",
        "      <td> 27</td>\n",
        "    </tr>\n",
        "    <tr>\n",
        "      <th>77065</th>\n",
        "      <td> 77065</td>\n",
        "      <td>  3%</td>\n",
        "      <td> 25</td>\n",
        "    </tr>\n",
        "    <tr>\n",
        "      <th>78232</th>\n",
        "      <td> 78232</td>\n",
        "      <td>  5%</td>\n",
        "      <td> 23</td>\n",
        "    </tr>\n",
        "    <tr>\n",
        "      <th>76028</th>\n",
        "      <td> 76028</td>\n",
        "      <td>  4%</td>\n",
        "      <td> 22</td>\n",
        "    </tr>\n",
        "    <tr>\n",
        "      <th>53072</th>\n",
        "      <td> 53072</td>\n",
        "      <td>  4%</td>\n",
        "      <td> 21</td>\n",
        "    </tr>\n",
        "    <tr>\n",
        "      <th>35040</th>\n",
        "      <td> 35040</td>\n",
        "      <td> 11%</td>\n",
        "      <td> 19</td>\n",
        "    </tr>\n",
        "    <tr>\n",
        "      <th>89113</th>\n",
        "      <td> 89113</td>\n",
        "      <td>  6%</td>\n",
        "      <td> 18</td>\n",
        "    </tr>\n",
        "    <tr>\n",
        "      <th>85251</th>\n",
        "      <td> 85251</td>\n",
        "      <td>  6%</td>\n",
        "      <td> 18</td>\n",
        "    </tr>\n",
        "    <tr>\n",
        "      <th>76116</th>\n",
        "      <td> 76116</td>\n",
        "      <td>  8%</td>\n",
        "      <td> 17</td>\n",
        "    </tr>\n",
        "    <tr>\n",
        "      <th>79424</th>\n",
        "      <td> 79424</td>\n",
        "      <td>  2%</td>\n",
        "      <td> 17</td>\n",
        "    </tr>\n",
        "    <tr>\n",
        "      <th>78204</th>\n",
        "      <td> 78204</td>\n",
        "      <td> 10%</td>\n",
        "      <td> 16</td>\n",
        "    </tr>\n",
        "    <tr>\n",
        "      <th>21117</th>\n",
        "      <td> 21117</td>\n",
        "      <td>  5%</td>\n",
        "      <td> 16</td>\n",
        "    </tr>\n",
        "    <tr>\n",
        "      <th>20744</th>\n",
        "      <td> 20744</td>\n",
        "      <td> 10%</td>\n",
        "      <td> 15</td>\n",
        "    </tr>\n",
        "    <tr>\n",
        "      <th>33173</th>\n",
        "      <td> 33173</td>\n",
        "      <td>  8%</td>\n",
        "      <td> 15</td>\n",
        "    </tr>\n",
        "    <tr>\n",
        "      <th>11219</th>\n",
        "      <td> 11219</td>\n",
        "      <td>  8%</td>\n",
        "      <td> 14</td>\n",
        "    </tr>\n",
        "    <tr>\n",
        "      <th>80134</th>\n",
        "      <td> 80134</td>\n",
        "      <td>  3%</td>\n",
        "      <td> 14</td>\n",
        "    </tr>\n",
        "    <tr>\n",
        "      <th>33462</th>\n",
        "      <td> 33462</td>\n",
        "      <td> 12%</td>\n",
        "      <td> 13</td>\n",
        "    </tr>\n",
        "    <tr>\n",
        "      <th>96727</th>\n",
        "      <td> 96727</td>\n",
        "      <td>  9%</td>\n",
        "      <td> 13</td>\n",
        "    </tr>\n",
        "    <tr>\n",
        "      <th>77083</th>\n",
        "      <td> 77083</td>\n",
        "      <td>  6%</td>\n",
        "      <td> 13</td>\n",
        "    </tr>\n",
        "    <tr>\n",
        "      <th>20017</th>\n",
        "      <td> 20017</td>\n",
        "      <td> 14%</td>\n",
        "      <td> 12</td>\n",
        "    </tr>\n",
        "    <tr>\n",
        "      <th>90046</th>\n",
        "      <td> 90046</td>\n",
        "      <td>  9%</td>\n",
        "      <td> 12</td>\n",
        "    </tr>\n",
        "    <tr>\n",
        "      <th>32904</th>\n",
        "      <td> 32904</td>\n",
        "      <td>  9%</td>\n",
        "      <td> 12</td>\n",
        "    </tr>\n",
        "    <tr>\n",
        "      <th>75211</th>\n",
        "      <td> 75211</td>\n",
        "      <td>  7%</td>\n",
        "      <td> 12</td>\n",
        "    </tr>\n",
        "    <tr>\n",
        "      <th>75232</th>\n",
        "      <td> 75232</td>\n",
        "      <td> 11%</td>\n",
        "      <td> 12</td>\n",
        "    </tr>\n",
        "    <tr>\n",
        "      <th>30324</th>\n",
        "      <td> 30324</td>\n",
        "      <td>  7%</td>\n",
        "      <td> 11</td>\n",
        "    </tr>\n",
        "    <tr>\n",
        "      <th>33009</th>\n",
        "      <td> 33009</td>\n",
        "      <td> 13%</td>\n",
        "      <td> 11</td>\n",
        "    </tr>\n",
        "    <tr>\n",
        "      <th>92101</th>\n",
        "      <td> 92101</td>\n",
        "      <td>  7%</td>\n",
        "      <td> 11</td>\n",
        "    </tr>\n",
        "    <tr>\n",
        "      <th>30038</th>\n",
        "      <td> 30038</td>\n",
        "      <td> 16%</td>\n",
        "      <td> 11</td>\n",
        "    </tr>\n",
        "    <tr>\n",
        "      <th>23831</th>\n",
        "      <td> 23831</td>\n",
        "      <td>  6%</td>\n",
        "      <td> 11</td>\n",
        "    </tr>\n",
        "    <tr>\n",
        "      <th>...</th>\n",
        "      <td>...</td>\n",
        "      <td>...</td>\n",
        "      <td>...</td>\n",
        "    </tr>\n",
        "    <tr>\n",
        "      <th>8742 </th>\n",
        "      <td>  8742</td>\n",
        "      <td>  8%</td>\n",
        "      <td>  1</td>\n",
        "    </tr>\n",
        "    <tr>\n",
        "      <th>60030</th>\n",
        "      <td> 60030</td>\n",
        "      <td>  4%</td>\n",
        "      <td>  1</td>\n",
        "    </tr>\n",
        "    <tr>\n",
        "      <th>60026</th>\n",
        "      <td> 60026</td>\n",
        "      <td>  3%</td>\n",
        "      <td>  1</td>\n",
        "    </tr>\n",
        "    <tr>\n",
        "      <th>60022</th>\n",
        "      <td> 60022</td>\n",
        "      <td>  5%</td>\n",
        "      <td>  1</td>\n",
        "    </tr>\n",
        "    <tr>\n",
        "      <th>55082</th>\n",
        "      <td> 55082</td>\n",
        "      <td>  6%</td>\n",
        "      <td>  1</td>\n",
        "    </tr>\n",
        "    <tr>\n",
        "      <th>44230</th>\n",
        "      <td> 44230</td>\n",
        "      <td>  7%</td>\n",
        "      <td>  1</td>\n",
        "    </tr>\n",
        "    <tr>\n",
        "      <th>43615</th>\n",
        "      <td> 43615</td>\n",
        "      <td> 12%</td>\n",
        "      <td>  1</td>\n",
        "    </tr>\n",
        "    <tr>\n",
        "      <th>32779</th>\n",
        "      <td> 32779</td>\n",
        "      <td>  8%</td>\n",
        "      <td>  1</td>\n",
        "    </tr>\n",
        "    <tr>\n",
        "      <th>82007</th>\n",
        "      <td> 82007</td>\n",
        "      <td>  6%</td>\n",
        "      <td>  1</td>\n",
        "    </tr>\n",
        "    <tr>\n",
        "      <th>75965</th>\n",
        "      <td> 75965</td>\n",
        "      <td>  5%</td>\n",
        "      <td>  1</td>\n",
        "    </tr>\n",
        "    <tr>\n",
        "      <th>2532 </th>\n",
        "      <td>  2532</td>\n",
        "      <td>  9%</td>\n",
        "      <td>  1</td>\n",
        "    </tr>\n",
        "    <tr>\n",
        "      <th>2540 </th>\n",
        "      <td>  2540</td>\n",
        "      <td>  8%</td>\n",
        "      <td>  1</td>\n",
        "    </tr>\n",
        "    <tr>\n",
        "      <th>2657 </th>\n",
        "      <td>  2657</td>\n",
        "      <td> 13%</td>\n",
        "      <td>  1</td>\n",
        "    </tr>\n",
        "    <tr>\n",
        "      <th>34736</th>\n",
        "      <td> 34736</td>\n",
        "      <td> 15%</td>\n",
        "      <td>  1</td>\n",
        "    </tr>\n",
        "    <tr>\n",
        "      <th>74403</th>\n",
        "      <td> 74403</td>\n",
        "      <td>  6%</td>\n",
        "      <td>  1</td>\n",
        "    </tr>\n",
        "    <tr>\n",
        "      <th>32092</th>\n",
        "      <td> 32092</td>\n",
        "      <td>  6%</td>\n",
        "      <td>  1</td>\n",
        "    </tr>\n",
        "    <tr>\n",
        "      <th>5677 </th>\n",
        "      <td>  5677</td>\n",
        "      <td>  2%</td>\n",
        "      <td>  1</td>\n",
        "    </tr>\n",
        "    <tr>\n",
        "      <th>82001</th>\n",
        "      <td> 82001</td>\n",
        "      <td>  3%</td>\n",
        "      <td>  1</td>\n",
        "    </tr>\n",
        "    <tr>\n",
        "      <th>82501</th>\n",
        "      <td> 82501</td>\n",
        "      <td>  6%</td>\n",
        "      <td>  1</td>\n",
        "    </tr>\n",
        "    <tr>\n",
        "      <th>43614</th>\n",
        "      <td> 43614</td>\n",
        "      <td> 10%</td>\n",
        "      <td>  1</td>\n",
        "    </tr>\n",
        "    <tr>\n",
        "      <th>70452</th>\n",
        "      <td> 70452</td>\n",
        "      <td>  9%</td>\n",
        "      <td>  1</td>\n",
        "    </tr>\n",
        "    <tr>\n",
        "      <th>14062</th>\n",
        "      <td> 14062</td>\n",
        "      <td> 10%</td>\n",
        "      <td>  1</td>\n",
        "    </tr>\n",
        "    <tr>\n",
        "      <th>41042</th>\n",
        "      <td> 41042</td>\n",
        "      <td>  7%</td>\n",
        "      <td>  1</td>\n",
        "    </tr>\n",
        "    <tr>\n",
        "      <th>66205</th>\n",
        "      <td> 66205</td>\n",
        "      <td>  2%</td>\n",
        "      <td>  1</td>\n",
        "    </tr>\n",
        "    <tr>\n",
        "      <th>66112</th>\n",
        "      <td> 66112</td>\n",
        "      <td> 13%</td>\n",
        "      <td>  1</td>\n",
        "    </tr>\n",
        "    <tr>\n",
        "      <th>7016 </th>\n",
        "      <td>  7016</td>\n",
        "      <td>  6%</td>\n",
        "      <td>  1</td>\n",
        "    </tr>\n",
        "    <tr>\n",
        "      <th>30306</th>\n",
        "      <td> 30306</td>\n",
        "      <td>  5%</td>\n",
        "      <td>  1</td>\n",
        "    </tr>\n",
        "    <tr>\n",
        "      <th>94534</th>\n",
        "      <td> 94534</td>\n",
        "      <td>  3%</td>\n",
        "      <td>  1</td>\n",
        "    </tr>\n",
        "    <tr>\n",
        "      <th>43542</th>\n",
        "      <td> 43542</td>\n",
        "      <td>  5%</td>\n",
        "      <td>  1</td>\n",
        "    </tr>\n",
        "    <tr>\n",
        "      <th>43506</th>\n",
        "      <td> 43506</td>\n",
        "      <td> 10%</td>\n",
        "      <td>  1</td>\n",
        "    </tr>\n",
        "  </tbody>\n",
        "</table>\n",
        "<p>2474 rows \u00d7 3 columns</p>\n",
        "</div>"
       ],
       "metadata": {},
       "output_type": "pyout",
       "prompt_number": 103,
       "text": [
        "         Zip Unemp. Rate   0\n",
        "60445  60445          8%  42\n",
        "94030  94030          4%  27\n",
        "77065  77065          3%  25\n",
        "78232  78232          5%  23\n",
        "76028  76028          4%  22\n",
        "53072  53072          4%  21\n",
        "35040  35040         11%  19\n",
        "89113  89113          6%  18\n",
        "85251  85251          6%  18\n",
        "76116  76116          8%  17\n",
        "79424  79424          2%  17\n",
        "78204  78204         10%  16\n",
        "21117  21117          5%  16\n",
        "20744  20744         10%  15\n",
        "33173  33173          8%  15\n",
        "11219  11219          8%  14\n",
        "80134  80134          3%  14\n",
        "33462  33462         12%  13\n",
        "96727  96727          9%  13\n",
        "77083  77083          6%  13\n",
        "20017  20017         14%  12\n",
        "90046  90046          9%  12\n",
        "32904  32904          9%  12\n",
        "75211  75211          7%  12\n",
        "75232  75232         11%  12\n",
        "30324  30324          7%  11\n",
        "33009  33009         13%  11\n",
        "92101  92101          7%  11\n",
        "30038  30038         16%  11\n",
        "23831  23831          6%  11\n",
        "...      ...         ...  ..\n",
        "8742    8742          8%   1\n",
        "60030  60030          4%   1\n",
        "60026  60026          3%   1\n",
        "60022  60022          5%   1\n",
        "55082  55082          6%   1\n",
        "44230  44230          7%   1\n",
        "43615  43615         12%   1\n",
        "32779  32779          8%   1\n",
        "82007  82007          6%   1\n",
        "75965  75965          5%   1\n",
        "2532    2532          9%   1\n",
        "2540    2540          8%   1\n",
        "2657    2657         13%   1\n",
        "34736  34736         15%   1\n",
        "74403  74403          6%   1\n",
        "32092  32092          6%   1\n",
        "5677    5677          2%   1\n",
        "82001  82001          3%   1\n",
        "82501  82501          6%   1\n",
        "43614  43614         10%   1\n",
        "70452  70452          9%   1\n",
        "14062  14062         10%   1\n",
        "41042  41042          7%   1\n",
        "66205  66205          2%   1\n",
        "66112  66112         13%   1\n",
        "7016    7016          6%   1\n",
        "30306  30306          5%   1\n",
        "94534  94534          3%   1\n",
        "43542  43542          5%   1\n",
        "43506  43506         10%   1\n",
        "\n",
        "[2474 rows x 3 columns]"
       ]
      }
     ],
     "prompt_number": 103
    },
    {
     "cell_type": "code",
     "collapsed": false,
     "input": [
      "sorted_unemp.plot(kind='barh', figsize =(9,9))"
     ],
     "language": "python",
     "metadata": {},
     "outputs": [
      {
       "metadata": {},
       "output_type": "pyout",
       "prompt_number": 107,
       "text": [
        "<matplotlib.axes._subplots.AxesSubplot at 0x11626fa90>"
       ]
      }
     ]
    }
   ],
   "metadata": {}
  }
 ]
}