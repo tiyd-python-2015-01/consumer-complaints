{
 "cells": [
  {
   "cell_type": "code",
   "execution_count": 1,
   "metadata": {
    "collapsed": false
   },
   "outputs": [],
   "source": [
    "import pandas as pd\n",
    "import matplotlib.pyplot as plt\n",
    "import numpy as np\n",
    "import seaborn as sb"
   ]
  },
  {
   "cell_type": "code",
   "execution_count": 2,
   "metadata": {
    "collapsed": false
   },
   "outputs": [],
   "source": [
    "%matplotlib inline"
   ]
  },
  {
   "cell_type": "code",
   "execution_count": 3,
   "metadata": {
    "collapsed": false
   },
   "outputs": [
    {
     "data": {
      "text/html": [
       "<div style=\"max-height:1000px;max-width:1500px;overflow:auto;\">\n",
       "<table border=\"1\" class=\"dataframe\">\n",
       "  <thead>\n",
       "    <tr style=\"text-align: right;\">\n",
       "      <th></th>\n",
       "      <th>Complaint ID</th>\n",
       "      <th>Product</th>\n",
       "      <th>Sub-product</th>\n",
       "      <th>Issue</th>\n",
       "      <th>Sub-issue</th>\n",
       "      <th>State</th>\n",
       "      <th>ZIP code</th>\n",
       "      <th>Submitted via</th>\n",
       "      <th>Date received</th>\n",
       "      <th>Date sent to company</th>\n",
       "      <th>Company</th>\n",
       "      <th>Company response</th>\n",
       "      <th>Timely response?</th>\n",
       "      <th>Consumer disputed?</th>\n",
       "    </tr>\n",
       "  </thead>\n",
       "  <tbody>\n",
       "    <tr>\n",
       "      <th>0</th>\n",
       "      <td> 1177167</td>\n",
       "      <td> Debt collection</td>\n",
       "      <td> NaN</td>\n",
       "      <td> Cont'd attempts collect debt not owed</td>\n",
       "      <td> Debt is not mine</td>\n",
       "      <td> TX</td>\n",
       "      <td> 77068</td>\n",
       "      <td> Web</td>\n",
       "      <td> 12/31/2014</td>\n",
       "      <td> 12/31/2014</td>\n",
       "      <td>  Ad Astra Recovery Services Inc</td>\n",
       "      <td>         Closed with explanation</td>\n",
       "      <td> Yes</td>\n",
       "      <td> NaN</td>\n",
       "    </tr>\n",
       "    <tr>\n",
       "      <th>1</th>\n",
       "      <td> 1177166</td>\n",
       "      <td> Debt collection</td>\n",
       "      <td> NaN</td>\n",
       "      <td> Cont'd attempts collect debt not owed</td>\n",
       "      <td> Debt is not mine</td>\n",
       "      <td> TX</td>\n",
       "      <td> 77068</td>\n",
       "      <td> Web</td>\n",
       "      <td> 12/31/2014</td>\n",
       "      <td> 12/31/2014</td>\n",
       "      <td> Unique Management Services, Inc</td>\n",
       "      <td>         Closed with explanation</td>\n",
       "      <td> Yes</td>\n",
       "      <td> NaN</td>\n",
       "    </tr>\n",
       "    <tr>\n",
       "      <th>2</th>\n",
       "      <td> 1177165</td>\n",
       "      <td> Debt collection</td>\n",
       "      <td> NaN</td>\n",
       "      <td> Cont'd attempts collect debt not owed</td>\n",
       "      <td> Debt is not mine</td>\n",
       "      <td> TX</td>\n",
       "      <td> 77068</td>\n",
       "      <td> Web</td>\n",
       "      <td> 12/31/2014</td>\n",
       "      <td> 12/31/2014</td>\n",
       "      <td>                CL Holdings, LLC</td>\n",
       "      <td>     Closed with monetary relief</td>\n",
       "      <td> Yes</td>\n",
       "      <td> NaN</td>\n",
       "    </tr>\n",
       "    <tr>\n",
       "      <th>3</th>\n",
       "      <td> 1177164</td>\n",
       "      <td> Debt collection</td>\n",
       "      <td> NaN</td>\n",
       "      <td> Cont'd attempts collect debt not owed</td>\n",
       "      <td> Debt is not mine</td>\n",
       "      <td> TX</td>\n",
       "      <td> 77068</td>\n",
       "      <td> Web</td>\n",
       "      <td> 12/31/2014</td>\n",
       "      <td> 12/31/2014</td>\n",
       "      <td>  Enhanced Recovery Company, LLC</td>\n",
       "      <td> Closed with non-monetary relief</td>\n",
       "      <td> Yes</td>\n",
       "      <td> NaN</td>\n",
       "    </tr>\n",
       "    <tr>\n",
       "      <th>4</th>\n",
       "      <td> 1177163</td>\n",
       "      <td> Debt collection</td>\n",
       "      <td> NaN</td>\n",
       "      <td> Cont'd attempts collect debt not owed</td>\n",
       "      <td> Debt is not mine</td>\n",
       "      <td> TX</td>\n",
       "      <td> 77068</td>\n",
       "      <td> Web</td>\n",
       "      <td> 12/31/2014</td>\n",
       "      <td> 12/31/2014</td>\n",
       "      <td>      Enhanced Acquisitions, LLC</td>\n",
       "      <td>         Closed with explanation</td>\n",
       "      <td> Yes</td>\n",
       "      <td> NaN</td>\n",
       "    </tr>\n",
       "  </tbody>\n",
       "</table>\n",
       "</div>"
      ],
      "text/plain": [
       "   Complaint ID          Product Sub-product  \\\n",
       "0       1177167  Debt collection         NaN   \n",
       "1       1177166  Debt collection         NaN   \n",
       "2       1177165  Debt collection         NaN   \n",
       "3       1177164  Debt collection         NaN   \n",
       "4       1177163  Debt collection         NaN   \n",
       "\n",
       "                                   Issue         Sub-issue State  ZIP code  \\\n",
       "0  Cont'd attempts collect debt not owed  Debt is not mine    TX     77068   \n",
       "1  Cont'd attempts collect debt not owed  Debt is not mine    TX     77068   \n",
       "2  Cont'd attempts collect debt not owed  Debt is not mine    TX     77068   \n",
       "3  Cont'd attempts collect debt not owed  Debt is not mine    TX     77068   \n",
       "4  Cont'd attempts collect debt not owed  Debt is not mine    TX     77068   \n",
       "\n",
       "  Submitted via Date received Date sent to company  \\\n",
       "0           Web    12/31/2014           12/31/2014   \n",
       "1           Web    12/31/2014           12/31/2014   \n",
       "2           Web    12/31/2014           12/31/2014   \n",
       "3           Web    12/31/2014           12/31/2014   \n",
       "4           Web    12/31/2014           12/31/2014   \n",
       "\n",
       "                           Company                 Company response  \\\n",
       "0   Ad Astra Recovery Services Inc          Closed with explanation   \n",
       "1  Unique Management Services, Inc          Closed with explanation   \n",
       "2                 CL Holdings, LLC      Closed with monetary relief   \n",
       "3   Enhanced Recovery Company, LLC  Closed with non-monetary relief   \n",
       "4       Enhanced Acquisitions, LLC          Closed with explanation   \n",
       "\n",
       "  Timely response? Consumer disputed?  \n",
       "0              Yes                NaN  \n",
       "1              Yes                NaN  \n",
       "2              Yes                NaN  \n",
       "3              Yes                NaN  \n",
       "4              Yes                NaN  "
      ]
     },
     "execution_count": 3,
     "metadata": {},
     "output_type": "execute_result"
    }
   ],
   "source": [
    "con_com = pd.read_csv(\"complaints_dec_2014.csv\")\n",
    "con_com.head()"
   ]
  },
  {
   "cell_type": "code",
   "execution_count": 4,
   "metadata": {
    "collapsed": false
   },
   "outputs": [],
   "source": [
    "con_com.index = pd.to_datetime(con_com.pop('Date received'))\n"
   ]
  },
  {
   "cell_type": "code",
   "execution_count": 5,
   "metadata": {
    "collapsed": false
   },
   "outputs": [
    {
     "data": {
      "text/html": [
       "<div style=\"max-height:1000px;max-width:1500px;overflow:auto;\">\n",
       "<table border=\"1\" class=\"dataframe\">\n",
       "  <thead>\n",
       "    <tr style=\"text-align: right;\">\n",
       "      <th></th>\n",
       "      <th>Complaint ID</th>\n",
       "      <th>Product</th>\n",
       "      <th>Sub-product</th>\n",
       "      <th>Issue</th>\n",
       "      <th>Sub-issue</th>\n",
       "      <th>State</th>\n",
       "      <th>ZIP code</th>\n",
       "      <th>Submitted via</th>\n",
       "      <th>Date sent to company</th>\n",
       "      <th>Company</th>\n",
       "      <th>Company response</th>\n",
       "      <th>Timely response?</th>\n",
       "      <th>Consumer disputed?</th>\n",
       "    </tr>\n",
       "    <tr>\n",
       "      <th>Date received</th>\n",
       "      <th></th>\n",
       "      <th></th>\n",
       "      <th></th>\n",
       "      <th></th>\n",
       "      <th></th>\n",
       "      <th></th>\n",
       "      <th></th>\n",
       "      <th></th>\n",
       "      <th></th>\n",
       "      <th></th>\n",
       "      <th></th>\n",
       "      <th></th>\n",
       "      <th></th>\n",
       "    </tr>\n",
       "  </thead>\n",
       "  <tbody>\n",
       "    <tr>\n",
       "      <th>2014-12-31</th>\n",
       "      <td> 1177167</td>\n",
       "      <td> Debt collection</td>\n",
       "      <td> NaN</td>\n",
       "      <td> Cont'd attempts collect debt not owed</td>\n",
       "      <td> Debt is not mine</td>\n",
       "      <td> TX</td>\n",
       "      <td> 77068</td>\n",
       "      <td> Web</td>\n",
       "      <td> 12/31/2014</td>\n",
       "      <td>  Ad Astra Recovery Services Inc</td>\n",
       "      <td>         Closed with explanation</td>\n",
       "      <td> Yes</td>\n",
       "      <td> NaN</td>\n",
       "    </tr>\n",
       "    <tr>\n",
       "      <th>2014-12-31</th>\n",
       "      <td> 1177166</td>\n",
       "      <td> Debt collection</td>\n",
       "      <td> NaN</td>\n",
       "      <td> Cont'd attempts collect debt not owed</td>\n",
       "      <td> Debt is not mine</td>\n",
       "      <td> TX</td>\n",
       "      <td> 77068</td>\n",
       "      <td> Web</td>\n",
       "      <td> 12/31/2014</td>\n",
       "      <td> Unique Management Services, Inc</td>\n",
       "      <td>         Closed with explanation</td>\n",
       "      <td> Yes</td>\n",
       "      <td> NaN</td>\n",
       "    </tr>\n",
       "    <tr>\n",
       "      <th>2014-12-31</th>\n",
       "      <td> 1177165</td>\n",
       "      <td> Debt collection</td>\n",
       "      <td> NaN</td>\n",
       "      <td> Cont'd attempts collect debt not owed</td>\n",
       "      <td> Debt is not mine</td>\n",
       "      <td> TX</td>\n",
       "      <td> 77068</td>\n",
       "      <td> Web</td>\n",
       "      <td> 12/31/2014</td>\n",
       "      <td>                CL Holdings, LLC</td>\n",
       "      <td>     Closed with monetary relief</td>\n",
       "      <td> Yes</td>\n",
       "      <td> NaN</td>\n",
       "    </tr>\n",
       "    <tr>\n",
       "      <th>2014-12-31</th>\n",
       "      <td> 1177164</td>\n",
       "      <td> Debt collection</td>\n",
       "      <td> NaN</td>\n",
       "      <td> Cont'd attempts collect debt not owed</td>\n",
       "      <td> Debt is not mine</td>\n",
       "      <td> TX</td>\n",
       "      <td> 77068</td>\n",
       "      <td> Web</td>\n",
       "      <td> 12/31/2014</td>\n",
       "      <td>  Enhanced Recovery Company, LLC</td>\n",
       "      <td> Closed with non-monetary relief</td>\n",
       "      <td> Yes</td>\n",
       "      <td> NaN</td>\n",
       "    </tr>\n",
       "    <tr>\n",
       "      <th>2014-12-31</th>\n",
       "      <td> 1177163</td>\n",
       "      <td> Debt collection</td>\n",
       "      <td> NaN</td>\n",
       "      <td> Cont'd attempts collect debt not owed</td>\n",
       "      <td> Debt is not mine</td>\n",
       "      <td> TX</td>\n",
       "      <td> 77068</td>\n",
       "      <td> Web</td>\n",
       "      <td> 12/31/2014</td>\n",
       "      <td>      Enhanced Acquisitions, LLC</td>\n",
       "      <td>         Closed with explanation</td>\n",
       "      <td> Yes</td>\n",
       "      <td> NaN</td>\n",
       "    </tr>\n",
       "  </tbody>\n",
       "</table>\n",
       "</div>"
      ],
      "text/plain": [
       "               Complaint ID          Product Sub-product  \\\n",
       "Date received                                              \n",
       "2014-12-31          1177167  Debt collection         NaN   \n",
       "2014-12-31          1177166  Debt collection         NaN   \n",
       "2014-12-31          1177165  Debt collection         NaN   \n",
       "2014-12-31          1177164  Debt collection         NaN   \n",
       "2014-12-31          1177163  Debt collection         NaN   \n",
       "\n",
       "                                               Issue         Sub-issue State  \\\n",
       "Date received                                                                  \n",
       "2014-12-31     Cont'd attempts collect debt not owed  Debt is not mine    TX   \n",
       "2014-12-31     Cont'd attempts collect debt not owed  Debt is not mine    TX   \n",
       "2014-12-31     Cont'd attempts collect debt not owed  Debt is not mine    TX   \n",
       "2014-12-31     Cont'd attempts collect debt not owed  Debt is not mine    TX   \n",
       "2014-12-31     Cont'd attempts collect debt not owed  Debt is not mine    TX   \n",
       "\n",
       "               ZIP code Submitted via Date sent to company  \\\n",
       "Date received                                                \n",
       "2014-12-31        77068           Web           12/31/2014   \n",
       "2014-12-31        77068           Web           12/31/2014   \n",
       "2014-12-31        77068           Web           12/31/2014   \n",
       "2014-12-31        77068           Web           12/31/2014   \n",
       "2014-12-31        77068           Web           12/31/2014   \n",
       "\n",
       "                                       Company  \\\n",
       "Date received                                    \n",
       "2014-12-31      Ad Astra Recovery Services Inc   \n",
       "2014-12-31     Unique Management Services, Inc   \n",
       "2014-12-31                    CL Holdings, LLC   \n",
       "2014-12-31      Enhanced Recovery Company, LLC   \n",
       "2014-12-31          Enhanced Acquisitions, LLC   \n",
       "\n",
       "                              Company response Timely response?  \\\n",
       "Date received                                                     \n",
       "2014-12-31             Closed with explanation              Yes   \n",
       "2014-12-31             Closed with explanation              Yes   \n",
       "2014-12-31         Closed with monetary relief              Yes   \n",
       "2014-12-31     Closed with non-monetary relief              Yes   \n",
       "2014-12-31             Closed with explanation              Yes   \n",
       "\n",
       "              Consumer disputed?  \n",
       "Date received                     \n",
       "2014-12-31                   NaN  \n",
       "2014-12-31                   NaN  \n",
       "2014-12-31                   NaN  \n",
       "2014-12-31                   NaN  \n",
       "2014-12-31                   NaN  "
      ]
     },
     "execution_count": 5,
     "metadata": {},
     "output_type": "execute_result"
    }
   ],
   "source": [
    "con_com.head()"
   ]
  },
  {
   "cell_type": "code",
   "execution_count": null,
   "metadata": {
    "collapsed": false
   },
   "outputs": [],
   "source": []
  },
  {
   "cell_type": "code",
   "execution_count": 6,
   "metadata": {
    "collapsed": false
   },
   "outputs": [
    {
     "data": {
      "text/plain": [
       "Bank of America        766\n",
       "Equifax                737\n",
       "Experian               675\n",
       "TransUnion             604\n",
       "Wells Fargo            598\n",
       "JPMorgan Chase         545\n",
       "Ocwen                  408\n",
       "Citibank               403\n",
       "Nationstar Mortgage    357\n",
       "Capital One            252\n",
       "dtype: int64"
      ]
     },
     "execution_count": 6,
     "metadata": {},
     "output_type": "execute_result"
    }
   ],
   "source": [
    "complaints_by_company = con_com[\"Company\"]\n",
    "bad = complaints_by_company.value_counts()\n",
    "worst_companies = bad[:10]\n",
    "worst_companies"
   ]
  },
  {
   "cell_type": "code",
   "execution_count": 7,
   "metadata": {
    "collapsed": false
   },
   "outputs": [
    {
     "data": {
      "text/plain": [
       "<matplotlib.axes._subplots.AxesSubplot at 0x10fa5e080>"
      ]
     },
     "execution_count": 7,
     "metadata": {},
     "output_type": "execute_result"
    },
    {
     "data": {
      "image/png": "[encoded data removed]",
      "text/plain": [
       "<matplotlib.figure.Figure at 0x10fa3a048>"
      ]
     },
     "metadata": {},
     "output_type": "display_data"
    }
   ],
   "source": [
    "worst_companies.plot(kind=\"bar\")"
   ]
  },
  {
   "cell_type": "markdown",
   "metadata": {},
   "source": [
    "Bank of America has the most complaints of all with 766 last year."
   ]
  },
  {
   "cell_type": "code",
   "execution_count": 9,
   "metadata": {
    "collapsed": false
   },
   "outputs": [
    {
     "data": {
      "text/plain": [
       "Mortgage                   3002\n",
       "Debt collection            2942\n",
       "Credit reporting           2113\n",
       "Bank account or service    1136\n",
       "Credit card                1100\n",
       "Consumer loan               578\n",
       "Student loan                340\n",
       "Payday loan                 141\n",
       "Money transfers             107\n",
       "Prepaid card                 70\n",
       "Other financial service      14\n",
       "dtype: int64"
      ]
     },
     "execution_count": 9,
     "metadata": {},
     "output_type": "execute_result"
    }
   ],
   "source": [
    "complaints_by_product = con_com[\"Product\"]\n",
    "worst_products = complaints_by_product.value_counts()\n",
    "worst_products"
   ]
  },
  {
   "cell_type": "code",
   "execution_count": 10,
   "metadata": {
    "collapsed": false
   },
   "outputs": [
    {
     "data": {
      "text/plain": [
       "<matplotlib.axes._subplots.AxesSubplot at 0x10fb59cc0>"
      ]
     },
     "execution_count": 10,
     "metadata": {},
     "output_type": "execute_result"
    },
    {
     "data": {
      "image/png": "[encoded data removed]",
      "text/plain": [
       "<matplotlib.figure.Figure at 0x10fa739b0>"
      ]
     },
     "metadata": {},
     "output_type": "display_data"
    }
   ],
   "source": [
    "worst_products.plot(\"bar\")"
   ]
  },
  {
   "cell_type": "markdown",
   "metadata": {},
   "source": [
    "Mortgages are the most likely to create complaints."
   ]
  },
  {
   "cell_type": "code",
   "execution_count": 11,
   "metadata": {
    "collapsed": false
   },
   "outputs": [
    {
     "data": {
      "text/plain": [
       "Closed with explanation            8185\n",
       "Closed with non-monetary relief    1253\n",
       "In progress                        1056\n",
       "Closed with monetary relief         643\n",
       "Closed                              239\n",
       "Untimely response                   167\n",
       "dtype: int64"
      ]
     },
     "execution_count": 11,
     "metadata": {},
     "output_type": "execute_result"
    }
   ],
   "source": [
    "complaints_by_response = con_com[\"Company response\"]\n",
    "common_response = complaints_by_response.value_counts()\n",
    "common_response"
   ]
  },
  {
   "cell_type": "code",
   "execution_count": 12,
   "metadata": {
    "collapsed": false
   },
   "outputs": [
    {
     "data": {
      "text/plain": [
       "<matplotlib.axes._subplots.AxesSubplot at 0x10fc7eb70>"
      ]
     },
     "execution_count": 12,
     "metadata": {},
     "output_type": "execute_result"
    },
    {
     "data": {
      "image/png": "[encoded data removed]",
      "text/plain": [
       "<matplotlib.figure.Figure at 0x10fc54dd8>"
      ]
     },
     "metadata": {},
     "output_type": "display_data"
    }
   ],
   "source": [
    "common_response.plot(\"bar\")"
   ]
  },
  {
   "cell_type": "markdown",
   "metadata": {},
   "source": [
    "You are more likely to get an explanation than not."
   ]
  },
  {
   "cell_type": "code",
   "execution_count": 13,
   "metadata": {
    "collapsed": false
   },
   "outputs": [
    {
     "data": {
      "text/plain": [
       "CA    1591\n",
       "TX    1099\n",
       "FL    1093\n",
       "NY     733\n",
       "GA     512\n",
       "NJ     465\n",
       "IL     427\n",
       "PA     418\n",
       "VA     373\n",
       "OH     348\n",
       "dtype: int64"
      ]
     },
     "execution_count": 13,
     "metadata": {},
     "output_type": "execute_result"
    }
   ],
   "source": [
    "complaints_by_state = con_com[\"State\"]\n",
    "biggest_complainers = complaints_by_state.value_counts()[:10]\n",
    "biggest_complainers"
   ]
  },
  {
   "cell_type": "code",
   "execution_count": 14,
   "metadata": {
    "collapsed": false
   },
   "outputs": [
    {
     "data": {
      "text/plain": [
       "<matplotlib.axes._subplots.AxesSubplot at 0x10fd49898>"
      ]
     },
     "execution_count": 14,
     "metadata": {},
     "output_type": "execute_result"
    },
    {
     "data": {
      "image/png": "[encoded data removed]",
      "text/plain": [
       "<matplotlib.figure.Figure at 0x10fd97ba8>"
      ]
     },
     "metadata": {},
     "output_type": "display_data"
    }
   ],
   "source": [
    "biggest_complainers.plot(\"bar\")"
   ]
  },
  {
   "cell_type": "markdown",
   "metadata": {},
   "source": [
    "California generates the most complaints"
   ]
  },
  {
   "cell_type": "code",
   "execution_count": 15,
   "metadata": {
    "collapsed": false
   },
   "outputs": [
    {
     "data": {
      "text/html": [
       "<div style=\"max-height:1000px;max-width:1500px;overflow:auto;\">\n",
       "<table border=\"1\" class=\"dataframe\">\n",
       "  <thead>\n",
       "    <tr style=\"text-align: right;\">\n",
       "      <th></th>\n",
       "      <th>Complaint ID</th>\n",
       "      <th>Product</th>\n",
       "      <th>Sub-product</th>\n",
       "      <th>Issue</th>\n",
       "      <th>Sub-issue</th>\n",
       "      <th>State</th>\n",
       "      <th>ZIP code</th>\n",
       "      <th>Submitted via</th>\n",
       "      <th>Date sent to company</th>\n",
       "      <th>Company</th>\n",
       "      <th>Company response</th>\n",
       "      <th>Timely response?</th>\n",
       "      <th>Consumer disputed?</th>\n",
       "    </tr>\n",
       "    <tr>\n",
       "      <th>Date received</th>\n",
       "      <th></th>\n",
       "      <th></th>\n",
       "      <th></th>\n",
       "      <th></th>\n",
       "      <th></th>\n",
       "      <th></th>\n",
       "      <th></th>\n",
       "      <th></th>\n",
       "      <th></th>\n",
       "      <th></th>\n",
       "      <th></th>\n",
       "      <th></th>\n",
       "      <th></th>\n",
       "    </tr>\n",
       "  </thead>\n",
       "  <tbody>\n",
       "    <tr>\n",
       "      <th>2014-12-31</th>\n",
       "      <td> 1177167</td>\n",
       "      <td> Debt collection</td>\n",
       "      <td> NaN</td>\n",
       "      <td> Cont'd attempts collect debt not owed</td>\n",
       "      <td> Debt is not mine</td>\n",
       "      <td> TX</td>\n",
       "      <td> 77068</td>\n",
       "      <td> Web</td>\n",
       "      <td> 12/31/2014</td>\n",
       "      <td>  Ad Astra Recovery Services Inc</td>\n",
       "      <td>         Closed with explanation</td>\n",
       "      <td> Yes</td>\n",
       "      <td> NaN</td>\n",
       "    </tr>\n",
       "    <tr>\n",
       "      <th>2014-12-31</th>\n",
       "      <td> 1177166</td>\n",
       "      <td> Debt collection</td>\n",
       "      <td> NaN</td>\n",
       "      <td> Cont'd attempts collect debt not owed</td>\n",
       "      <td> Debt is not mine</td>\n",
       "      <td> TX</td>\n",
       "      <td> 77068</td>\n",
       "      <td> Web</td>\n",
       "      <td> 12/31/2014</td>\n",
       "      <td> Unique Management Services, Inc</td>\n",
       "      <td>         Closed with explanation</td>\n",
       "      <td> Yes</td>\n",
       "      <td> NaN</td>\n",
       "    </tr>\n",
       "    <tr>\n",
       "      <th>2014-12-31</th>\n",
       "      <td> 1177165</td>\n",
       "      <td> Debt collection</td>\n",
       "      <td> NaN</td>\n",
       "      <td> Cont'd attempts collect debt not owed</td>\n",
       "      <td> Debt is not mine</td>\n",
       "      <td> TX</td>\n",
       "      <td> 77068</td>\n",
       "      <td> Web</td>\n",
       "      <td> 12/31/2014</td>\n",
       "      <td>                CL Holdings, LLC</td>\n",
       "      <td>     Closed with monetary relief</td>\n",
       "      <td> Yes</td>\n",
       "      <td> NaN</td>\n",
       "    </tr>\n",
       "    <tr>\n",
       "      <th>2014-12-31</th>\n",
       "      <td> 1177164</td>\n",
       "      <td> Debt collection</td>\n",
       "      <td> NaN</td>\n",
       "      <td> Cont'd attempts collect debt not owed</td>\n",
       "      <td> Debt is not mine</td>\n",
       "      <td> TX</td>\n",
       "      <td> 77068</td>\n",
       "      <td> Web</td>\n",
       "      <td> 12/31/2014</td>\n",
       "      <td>  Enhanced Recovery Company, LLC</td>\n",
       "      <td> Closed with non-monetary relief</td>\n",
       "      <td> Yes</td>\n",
       "      <td> NaN</td>\n",
       "    </tr>\n",
       "    <tr>\n",
       "      <th>2014-12-31</th>\n",
       "      <td> 1177163</td>\n",
       "      <td> Debt collection</td>\n",
       "      <td> NaN</td>\n",
       "      <td> Cont'd attempts collect debt not owed</td>\n",
       "      <td> Debt is not mine</td>\n",
       "      <td> TX</td>\n",
       "      <td> 77068</td>\n",
       "      <td> Web</td>\n",
       "      <td> 12/31/2014</td>\n",
       "      <td>      Enhanced Acquisitions, LLC</td>\n",
       "      <td>         Closed with explanation</td>\n",
       "      <td> Yes</td>\n",
       "      <td> NaN</td>\n",
       "    </tr>\n",
       "  </tbody>\n",
       "</table>\n",
       "</div>"
      ],
      "text/plain": [
       "               Complaint ID          Product Sub-product  \\\n",
       "Date received                                              \n",
       "2014-12-31          1177167  Debt collection         NaN   \n",
       "2014-12-31          1177166  Debt collection         NaN   \n",
       "2014-12-31          1177165  Debt collection         NaN   \n",
       "2014-12-31          1177164  Debt collection         NaN   \n",
       "2014-12-31          1177163  Debt collection         NaN   \n",
       "\n",
       "                                               Issue         Sub-issue State  \\\n",
       "Date received                                                                  \n",
       "2014-12-31     Cont'd attempts collect debt not owed  Debt is not mine    TX   \n",
       "2014-12-31     Cont'd attempts collect debt not owed  Debt is not mine    TX   \n",
       "2014-12-31     Cont'd attempts collect debt not owed  Debt is not mine    TX   \n",
       "2014-12-31     Cont'd attempts collect debt not owed  Debt is not mine    TX   \n",
       "2014-12-31     Cont'd attempts collect debt not owed  Debt is not mine    TX   \n",
       "\n",
       "               ZIP code Submitted via Date sent to company  \\\n",
       "Date received                                                \n",
       "2014-12-31        77068           Web           12/31/2014   \n",
       "2014-12-31        77068           Web           12/31/2014   \n",
       "2014-12-31        77068           Web           12/31/2014   \n",
       "2014-12-31        77068           Web           12/31/2014   \n",
       "2014-12-31        77068           Web           12/31/2014   \n",
       "\n",
       "                                       Company  \\\n",
       "Date received                                    \n",
       "2014-12-31      Ad Astra Recovery Services Inc   \n",
       "2014-12-31     Unique Management Services, Inc   \n",
       "2014-12-31                    CL Holdings, LLC   \n",
       "2014-12-31      Enhanced Recovery Company, LLC   \n",
       "2014-12-31          Enhanced Acquisitions, LLC   \n",
       "\n",
       "                              Company response Timely response?  \\\n",
       "Date received                                                     \n",
       "2014-12-31             Closed with explanation              Yes   \n",
       "2014-12-31             Closed with explanation              Yes   \n",
       "2014-12-31         Closed with monetary relief              Yes   \n",
       "2014-12-31     Closed with non-monetary relief              Yes   \n",
       "2014-12-31             Closed with explanation              Yes   \n",
       "\n",
       "              Consumer disputed?  \n",
       "Date received                     \n",
       "2014-12-31                   NaN  \n",
       "2014-12-31                   NaN  \n",
       "2014-12-31                   NaN  \n",
       "2014-12-31                   NaN  \n",
       "2014-12-31                   NaN  "
      ]
     },
     "execution_count": 15,
     "metadata": {},
     "output_type": "execute_result"
    }
   ],
   "source": [
    "con_com.head()"
   ]
  },
  {
   "cell_type": "code",
   "execution_count": 16,
   "metadata": {
    "collapsed": false
   },
   "outputs": [
    {
     "data": {
      "text/plain": [
       "array([2, 2, 2, ..., 0, 0, 0], dtype=int32)"
      ]
     },
     "execution_count": 16,
     "metadata": {},
     "output_type": "execute_result"
    }
   ],
   "source": [
    "# day = [\"Monday\", \"Tuesday\", \"Wednesday\", \"Thursday\", \"Friday\", \"Saturday\", \"Sunday\"]\n",
    "\n",
    "con_com.index.weekday"
   ]
  },
  {
   "cell_type": "code",
   "execution_count": 17,
   "metadata": {
    "collapsed": false
   },
   "outputs": [
    {
     "data": {
      "text/html": [
       "<div style=\"max-height:1000px;max-width:1500px;overflow:auto;\">\n",
       "<table border=\"1\" class=\"dataframe\">\n",
       "  <thead>\n",
       "    <tr style=\"text-align: right;\">\n",
       "      <th></th>\n",
       "      <th>Complaint ID</th>\n",
       "      <th>Product</th>\n",
       "      <th>Sub-product</th>\n",
       "      <th>Issue</th>\n",
       "      <th>Sub-issue</th>\n",
       "      <th>State</th>\n",
       "      <th>ZIP code</th>\n",
       "      <th>Submitted via</th>\n",
       "      <th>Date sent to company</th>\n",
       "      <th>Company</th>\n",
       "      <th>Company response</th>\n",
       "      <th>Timely response?</th>\n",
       "      <th>Consumer disputed?</th>\n",
       "      <th>weekday</th>\n",
       "    </tr>\n",
       "    <tr>\n",
       "      <th>Date received</th>\n",
       "      <th></th>\n",
       "      <th></th>\n",
       "      <th></th>\n",
       "      <th></th>\n",
       "      <th></th>\n",
       "      <th></th>\n",
       "      <th></th>\n",
       "      <th></th>\n",
       "      <th></th>\n",
       "      <th></th>\n",
       "      <th></th>\n",
       "      <th></th>\n",
       "      <th></th>\n",
       "      <th></th>\n",
       "    </tr>\n",
       "  </thead>\n",
       "  <tbody>\n",
       "    <tr>\n",
       "      <th>2014-12-31</th>\n",
       "      <td> 1177167</td>\n",
       "      <td> Debt collection</td>\n",
       "      <td> NaN</td>\n",
       "      <td> Cont'd attempts collect debt not owed</td>\n",
       "      <td> Debt is not mine</td>\n",
       "      <td> TX</td>\n",
       "      <td> 77068</td>\n",
       "      <td> Web</td>\n",
       "      <td> 12/31/2014</td>\n",
       "      <td>  Ad Astra Recovery Services Inc</td>\n",
       "      <td>         Closed with explanation</td>\n",
       "      <td> Yes</td>\n",
       "      <td> NaN</td>\n",
       "      <td> 2</td>\n",
       "    </tr>\n",
       "    <tr>\n",
       "      <th>2014-12-31</th>\n",
       "      <td> 1177166</td>\n",
       "      <td> Debt collection</td>\n",
       "      <td> NaN</td>\n",
       "      <td> Cont'd attempts collect debt not owed</td>\n",
       "      <td> Debt is not mine</td>\n",
       "      <td> TX</td>\n",
       "      <td> 77068</td>\n",
       "      <td> Web</td>\n",
       "      <td> 12/31/2014</td>\n",
       "      <td> Unique Management Services, Inc</td>\n",
       "      <td>         Closed with explanation</td>\n",
       "      <td> Yes</td>\n",
       "      <td> NaN</td>\n",
       "      <td> 2</td>\n",
       "    </tr>\n",
       "    <tr>\n",
       "      <th>2014-12-31</th>\n",
       "      <td> 1177165</td>\n",
       "      <td> Debt collection</td>\n",
       "      <td> NaN</td>\n",
       "      <td> Cont'd attempts collect debt not owed</td>\n",
       "      <td> Debt is not mine</td>\n",
       "      <td> TX</td>\n",
       "      <td> 77068</td>\n",
       "      <td> Web</td>\n",
       "      <td> 12/31/2014</td>\n",
       "      <td>                CL Holdings, LLC</td>\n",
       "      <td>     Closed with monetary relief</td>\n",
       "      <td> Yes</td>\n",
       "      <td> NaN</td>\n",
       "      <td> 2</td>\n",
       "    </tr>\n",
       "    <tr>\n",
       "      <th>2014-12-31</th>\n",
       "      <td> 1177164</td>\n",
       "      <td> Debt collection</td>\n",
       "      <td> NaN</td>\n",
       "      <td> Cont'd attempts collect debt not owed</td>\n",
       "      <td> Debt is not mine</td>\n",
       "      <td> TX</td>\n",
       "      <td> 77068</td>\n",
       "      <td> Web</td>\n",
       "      <td> 12/31/2014</td>\n",
       "      <td>  Enhanced Recovery Company, LLC</td>\n",
       "      <td> Closed with non-monetary relief</td>\n",
       "      <td> Yes</td>\n",
       "      <td> NaN</td>\n",
       "      <td> 2</td>\n",
       "    </tr>\n",
       "    <tr>\n",
       "      <th>2014-12-31</th>\n",
       "      <td> 1177163</td>\n",
       "      <td> Debt collection</td>\n",
       "      <td> NaN</td>\n",
       "      <td> Cont'd attempts collect debt not owed</td>\n",
       "      <td> Debt is not mine</td>\n",
       "      <td> TX</td>\n",
       "      <td> 77068</td>\n",
       "      <td> Web</td>\n",
       "      <td> 12/31/2014</td>\n",
       "      <td>      Enhanced Acquisitions, LLC</td>\n",
       "      <td>         Closed with explanation</td>\n",
       "      <td> Yes</td>\n",
       "      <td> NaN</td>\n",
       "      <td> 2</td>\n",
       "    </tr>\n",
       "  </tbody>\n",
       "</table>\n",
       "</div>"
      ],
      "text/plain": [
       "               Complaint ID          Product Sub-product  \\\n",
       "Date received                                              \n",
       "2014-12-31          1177167  Debt collection         NaN   \n",
       "2014-12-31          1177166  Debt collection         NaN   \n",
       "2014-12-31          1177165  Debt collection         NaN   \n",
       "2014-12-31          1177164  Debt collection         NaN   \n",
       "2014-12-31          1177163  Debt collection         NaN   \n",
       "\n",
       "                                               Issue         Sub-issue State  \\\n",
       "Date received                                                                  \n",
       "2014-12-31     Cont'd attempts collect debt not owed  Debt is not mine    TX   \n",
       "2014-12-31     Cont'd attempts collect debt not owed  Debt is not mine    TX   \n",
       "2014-12-31     Cont'd attempts collect debt not owed  Debt is not mine    TX   \n",
       "2014-12-31     Cont'd attempts collect debt not owed  Debt is not mine    TX   \n",
       "2014-12-31     Cont'd attempts collect debt not owed  Debt is not mine    TX   \n",
       "\n",
       "               ZIP code Submitted via Date sent to company  \\\n",
       "Date received                                                \n",
       "2014-12-31        77068           Web           12/31/2014   \n",
       "2014-12-31        77068           Web           12/31/2014   \n",
       "2014-12-31        77068           Web           12/31/2014   \n",
       "2014-12-31        77068           Web           12/31/2014   \n",
       "2014-12-31        77068           Web           12/31/2014   \n",
       "\n",
       "                                       Company  \\\n",
       "Date received                                    \n",
       "2014-12-31      Ad Astra Recovery Services Inc   \n",
       "2014-12-31     Unique Management Services, Inc   \n",
       "2014-12-31                    CL Holdings, LLC   \n",
       "2014-12-31      Enhanced Recovery Company, LLC   \n",
       "2014-12-31          Enhanced Acquisitions, LLC   \n",
       "\n",
       "                              Company response Timely response?  \\\n",
       "Date received                                                     \n",
       "2014-12-31             Closed with explanation              Yes   \n",
       "2014-12-31             Closed with explanation              Yes   \n",
       "2014-12-31         Closed with monetary relief              Yes   \n",
       "2014-12-31     Closed with non-monetary relief              Yes   \n",
       "2014-12-31             Closed with explanation              Yes   \n",
       "\n",
       "              Consumer disputed?  weekday  \n",
       "Date received                              \n",
       "2014-12-31                   NaN        2  \n",
       "2014-12-31                   NaN        2  \n",
       "2014-12-31                   NaN        2  \n",
       "2014-12-31                   NaN        2  \n",
       "2014-12-31                   NaN        2  "
      ]
     },
     "execution_count": 17,
     "metadata": {},
     "output_type": "execute_result"
    }
   ],
   "source": [
    "con_com['weekday'] = con_com.index.weekday\n",
    "con_com.head()"
   ]
  },
  {
   "cell_type": "code",
   "execution_count": 20,
   "metadata": {
    "collapsed": false
   },
   "outputs": [
    {
     "data": {
      "text/plain": [
       "Monday       2544\n",
       "Tuesday      2580\n",
       "Wednesday    2289\n",
       "Thursday     1634\n",
       "Friday       1446\n",
       "Saturday      543\n",
       "Sunday        507\n",
       "dtype: int64"
      ]
     },
     "execution_count": 20,
     "metadata": {},
     "output_type": "execute_result"
    }
   ],
   "source": [
    "complaints_by_day_of_week = con_com[\"weekday\"].value_counts()\n",
    "sortedlist = complaints_by_day_of_week.sort_index()\n",
    "sortedlist.index = ['Monday', 'Tuesday', 'Wednesday', 'Thursday', 'Friday', 'Saturday', 'Sunday']\n",
    "sortedlist"
   ]
  },
  {
   "cell_type": "code",
   "execution_count": 21,
   "metadata": {
    "collapsed": false
   },
   "outputs": [
    {
     "data": {
      "text/plain": [
       "<matplotlib.axes._subplots.AxesSubplot at 0x10fe59d30>"
      ]
     },
     "execution_count": 21,
     "metadata": {},
     "output_type": "execute_result"
    },
    {
     "data": {
      "image/png": "[encoded data removed]",
      "text/plain": [
       "<matplotlib.figure.Figure at 0x10fdc5128>"
      ]
     },
     "metadata": {},
     "output_type": "display_data"
    }
   ],
   "source": [
    "day_means = sortedlist / 52 \n",
    "day_means.plot(\"bar\")"
   ]
  },
  {
   "cell_type": "markdown",
   "metadata": {},
   "source": [
    "More complaints are received on Tuesday. Very few come in on the weekends."
   ]
  },
  {
   "cell_type": "code",
   "execution_count": 22,
   "metadata": {
    "collapsed": false
   },
   "outputs": [
    {
     "data": {
      "text/plain": [
       "Monday       0.220393\n",
       "Tuesday      0.223512\n",
       "Wednesday    0.198302\n",
       "Thursday     0.141558\n",
       "Friday       0.125271\n",
       "Saturday     0.047041\n",
       "Sunday       0.043923\n",
       "dtype: float64"
      ]
     },
     "execution_count": 22,
     "metadata": {},
     "output_type": "execute_result"
    }
   ],
   "source": [
    "day_percentage = sortedlist / len(con_com)\n",
    "day_percentage"
   ]
  },
  {
   "cell_type": "code",
   "execution_count": 23,
   "metadata": {
    "collapsed": false
   },
   "outputs": [
    {
     "data": {
      "text/plain": [
       "44.0"
      ]
     },
     "execution_count": 23,
     "metadata": {},
     "output_type": "execute_result"
    }
   ],
   "source": [
    "montuesperc = day_percentage[\"Monday\"] + day_percentage[\"Tuesday\"]\n",
    "montuesperc = (montuesperc * 100).round()\n",
    "montuesperc"
   ]
  },
  {
   "cell_type": "code",
   "execution_count": 24,
   "metadata": {
    "collapsed": false
   },
   "outputs": [
    {
     "data": {
      "text/plain": [
       "<matplotlib.axes._subplots.AxesSubplot at 0x10fef05f8>"
      ]
     },
     "execution_count": 24,
     "metadata": {},
     "output_type": "execute_result"
    },
    {
     "data": {
      "image/png": "[encoded data removed]",
      "text/plain": [
       "<matplotlib.figure.Figure at 0x10fefd710>"
      ]
     },
     "metadata": {},
     "output_type": "display_data"
    }
   ],
   "source": [
    "day_percentage.plot(\"bar\")"
   ]
  },
  {
   "cell_type": "markdown",
   "metadata": {},
   "source": [
    "44% of complaints come in on Monday and Tuesday."
   ]
  },
  {
   "cell_type": "code",
   "execution_count": null,
   "metadata": {
    "collapsed": true
   },
   "outputs": [],
   "source": []
  }
 ],
 "metadata": {
  "kernelspec": {
   "display_name": "Python 3",
   "language": "python",
   "name": "python3"
  },
  "language_info": {
   "codemirror_mode": {
    "name": "ipython",
    "version": 3
   },
   "file_extension": ".py",
   "mimetype": "text/x-python",
   "name": "python",
   "nbconvert_exporter": "python",
   "pygments_lexer": "ipython3",
   "version": "3.4.2"
  }
 },
 "nbformat": 4,
 "nbformat_minor": 0
}
