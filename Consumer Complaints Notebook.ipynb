{
 "metadata": {
  "name": "",
  "signature": "sha256:695c42a5a39b2fc7720a8208be26ac5123a0ba4ab9cf7038ea1a8fb1b98045aa"
 },
 "nbformat": 3,
 "nbformat_minor": 0,
 "worksheets": [
  {
   "cells": [
    {
     "cell_type": "code",
     "collapsed": false,
     "input": [
      "import pandas as pd\n",
      "import numpy as np\n",
      "import matplotlib.pyplot as plt\n",
      "import seaborn as sns\n",
      "import plotly.plotly as py\n",
      "from plotly.graph_objs import *"
     ],
     "language": "python",
     "metadata": {},
     "outputs": [],
     "prompt_number": 86
    },
    {
     "cell_type": "code",
     "collapsed": false,
     "input": [
      "%matplotlib inline"
     ],
     "language": "python",
     "metadata": {},
     "outputs": [],
     "prompt_number": 2
    },
    {
     "cell_type": "code",
     "collapsed": false,
     "input": [
      "consumer_complaints = pd.read_csv(\"complaints_dec_2014.csv\")\n",
      "consumer_complaints.index = pd.to_datetime(consumer_complaints.pop('Date received'), format=\"%m/%d/%Y\")\n",
      "\n"
     ],
     "language": "python",
     "metadata": {},
     "outputs": [],
     "prompt_number": 77
    },
    {
     "cell_type": "code",
     "collapsed": false,
     "input": [
      "consumer_complaints.index.unique()"
     ],
     "language": "python",
     "metadata": {},
     "outputs": [
      {
       "metadata": {},
       "output_type": "pyout",
       "prompt_number": 78,
       "text": [
        "<class 'pandas.tseries.index.DatetimeIndex'>\n",
        "[2014-12-31, ..., 2014-12-01]\n",
        "Length: 31, Freq: None, Timezone: None"
       ]
      }
     ],
     "prompt_number": 78
    },
    {
     "cell_type": "code",
     "collapsed": false,
     "input": [
      "consumer_complaints.tail()"
     ],
     "language": "python",
     "metadata": {},
     "outputs": [
      {
       "html": [
        "<div style=\"max-height:1000px;max-width:1500px;overflow:auto;\">\n",
        "<table border=\"1\" class=\"dataframe\">\n",
        "  <thead>\n",
        "    <tr style=\"text-align: right;\">\n",
        "      <th></th>\n",
        "      <th>Complaint ID</th>\n",
        "      <th>Product</th>\n",
        "      <th>Sub-product</th>\n",
        "      <th>Issue</th>\n",
        "      <th>Sub-issue</th>\n",
        "      <th>State</th>\n",
        "      <th>ZIP code</th>\n",
        "      <th>Submitted via</th>\n",
        "      <th>Date sent to company</th>\n",
        "      <th>Company</th>\n",
        "      <th>Company response</th>\n",
        "      <th>Timely response?</th>\n",
        "      <th>Consumer disputed?</th>\n",
        "    </tr>\n",
        "    <tr>\n",
        "      <th>Date received</th>\n",
        "      <th></th>\n",
        "      <th></th>\n",
        "      <th></th>\n",
        "      <th></th>\n",
        "      <th></th>\n",
        "      <th></th>\n",
        "      <th></th>\n",
        "      <th></th>\n",
        "      <th></th>\n",
        "      <th></th>\n",
        "      <th></th>\n",
        "      <th></th>\n",
        "      <th></th>\n",
        "    </tr>\n",
        "  </thead>\n",
        "  <tbody>\n",
        "    <tr>\n",
        "      <th>2014-12-01</th>\n",
        "      <td> 1136172</td>\n",
        "      <td> Mortgage</td>\n",
        "      <td> Conventional fixed mortgage</td>\n",
        "      <td> Loan servicing, payments, escrow account</td>\n",
        "      <td> NaN</td>\n",
        "      <td>  LA</td>\n",
        "      <td> 70452</td>\n",
        "      <td> Web</td>\n",
        "      <td> 12/05/2014</td>\n",
        "      <td>    Servis One, Inc.</td>\n",
        "      <td>         Closed with explanation</td>\n",
        "      <td>  No</td>\n",
        "      <td> NaN</td>\n",
        "    </tr>\n",
        "    <tr>\n",
        "      <th>2014-12-01</th>\n",
        "      <td> 1136170</td>\n",
        "      <td> Mortgage</td>\n",
        "      <td>                FHA mortgage</td>\n",
        "      <td>           Credit decision / Underwriting</td>\n",
        "      <td> NaN</td>\n",
        "      <td> NaN</td>\n",
        "      <td> 74432</td>\n",
        "      <td> Web</td>\n",
        "      <td> 12/01/2014</td>\n",
        "      <td>            Experian</td>\n",
        "      <td>         Closed with explanation</td>\n",
        "      <td> Yes</td>\n",
        "      <td> NaN</td>\n",
        "    </tr>\n",
        "    <tr>\n",
        "      <th>2014-12-01</th>\n",
        "      <td> 1136169</td>\n",
        "      <td> Mortgage</td>\n",
        "      <td>                FHA mortgage</td>\n",
        "      <td>           Credit decision / Underwriting</td>\n",
        "      <td> NaN</td>\n",
        "      <td> NaN</td>\n",
        "      <td> 74432</td>\n",
        "      <td> Web</td>\n",
        "      <td> 12/01/2014</td>\n",
        "      <td>          TransUnion</td>\n",
        "      <td> Closed with non-monetary relief</td>\n",
        "      <td> Yes</td>\n",
        "      <td> NaN</td>\n",
        "    </tr>\n",
        "    <tr>\n",
        "      <th>2014-12-01</th>\n",
        "      <td> 1136162</td>\n",
        "      <td> Mortgage</td>\n",
        "      <td>              Other mortgage</td>\n",
        "      <td> Loan modification,collection,foreclosure</td>\n",
        "      <td> NaN</td>\n",
        "      <td>  MI</td>\n",
        "      <td> 48382</td>\n",
        "      <td> Fax</td>\n",
        "      <td> 12/05/2014</td>\n",
        "      <td>            Citibank</td>\n",
        "      <td>         Closed with explanation</td>\n",
        "      <td> Yes</td>\n",
        "      <td> NaN</td>\n",
        "    </tr>\n",
        "    <tr>\n",
        "      <th>2014-12-01</th>\n",
        "      <td> 1136158</td>\n",
        "      <td> Mortgage</td>\n",
        "      <td>                FHA mortgage</td>\n",
        "      <td> Loan modification,collection,foreclosure</td>\n",
        "      <td> NaN</td>\n",
        "      <td>  IL</td>\n",
        "      <td> 60148</td>\n",
        "      <td> Web</td>\n",
        "      <td> 12/01/2014</td>\n",
        "      <td> Nationstar Mortgage</td>\n",
        "      <td>         Closed with explanation</td>\n",
        "      <td> Yes</td>\n",
        "      <td> NaN</td>\n",
        "    </tr>\n",
        "  </tbody>\n",
        "</table>\n",
        "</div>"
       ],
       "metadata": {},
       "output_type": "pyout",
       "prompt_number": 79,
       "text": [
        "               Complaint ID   Product                  Sub-product  \\\n",
        "Date received                                                        \n",
        "2014-12-01          1136172  Mortgage  Conventional fixed mortgage   \n",
        "2014-12-01          1136170  Mortgage                 FHA mortgage   \n",
        "2014-12-01          1136169  Mortgage                 FHA mortgage   \n",
        "2014-12-01          1136162  Mortgage               Other mortgage   \n",
        "2014-12-01          1136158  Mortgage                 FHA mortgage   \n",
        "\n",
        "                                                  Issue Sub-issue State  \\\n",
        "Date received                                                             \n",
        "2014-12-01     Loan servicing, payments, escrow account       NaN    LA   \n",
        "2014-12-01               Credit decision / Underwriting       NaN   NaN   \n",
        "2014-12-01               Credit decision / Underwriting       NaN   NaN   \n",
        "2014-12-01     Loan modification,collection,foreclosure       NaN    MI   \n",
        "2014-12-01     Loan modification,collection,foreclosure       NaN    IL   \n",
        "\n",
        "               ZIP code Submitted via Date sent to company  \\\n",
        "Date received                                                \n",
        "2014-12-01        70452           Web           12/05/2014   \n",
        "2014-12-01        74432           Web           12/01/2014   \n",
        "2014-12-01        74432           Web           12/01/2014   \n",
        "2014-12-01        48382           Fax           12/05/2014   \n",
        "2014-12-01        60148           Web           12/01/2014   \n",
        "\n",
        "                           Company                 Company response  \\\n",
        "Date received                                                         \n",
        "2014-12-01        Servis One, Inc.          Closed with explanation   \n",
        "2014-12-01                Experian          Closed with explanation   \n",
        "2014-12-01              TransUnion  Closed with non-monetary relief   \n",
        "2014-12-01                Citibank          Closed with explanation   \n",
        "2014-12-01     Nationstar Mortgage          Closed with explanation   \n",
        "\n",
        "              Timely response? Consumer disputed?  \n",
        "Date received                                      \n",
        "2014-12-01                  No                NaN  \n",
        "2014-12-01                 Yes                NaN  \n",
        "2014-12-01                 Yes                NaN  \n",
        "2014-12-01                 Yes                NaN  \n",
        "2014-12-01                 Yes                NaN  "
       ]
      }
     ],
     "prompt_number": 79
    },
    {
     "cell_type": "heading",
     "level": 1,
     "metadata": {},
     "source": [
      "The ten companies with the highest number of complaints."
     ]
    },
    {
     "cell_type": "code",
     "collapsed": false,
     "input": [
      "ten_companies = consumer_complaints.Company.value_counts()[:10].plot(kind=\"bar\", figsize=(18, 6))\n",
      "plt.xlabel(\"Companies\")\n",
      "plt.ylabel(\"Complaints\")"
     ],
     "language": "python",
     "metadata": {},
     "outputs": [
      {
       "metadata": {},
       "output_type": "pyout",
       "prompt_number": 97,
       "text": [
        "<matplotlib.text.Text at 0x117ba5b38>"
       ]
      },
      {
       "metadata": {},
       "output_type": "display_data",
       "png": "[encoded data removed]",
       "text": [
        "<matplotlib.figure.Figure at 0x117b73080>"
       ]
      }
     ],
     "prompt_number": 97
    },
    {
     "cell_type": "markdown",
     "metadata": {},
     "source": [
      "This doesn't show much becuase it is expected that the larger companies would have more complaints becuase they are serving more customers."
     ]
    },
    {
     "cell_type": "heading",
     "level": 1,
     "metadata": {},
     "source": [
      "The differnet kinds of complaints ranked by their frequency."
     ]
    },
    {
     "cell_type": "code",
     "collapsed": false,
     "input": [
      "products = consumer_complaints.Product.value_counts().plot(kind=\"bar\", figsize=(18, 6))\n",
      "plt.xlabel(\"Types of Complaints\")\n",
      "plt.ylabel(\"Complaints\")"
     ],
     "language": "python",
     "metadata": {},
     "outputs": [
      {
       "metadata": {},
       "output_type": "pyout",
       "prompt_number": 98,
       "text": [
        "<matplotlib.text.Text at 0x117c036a0>"
       ]
      },
      {
       "metadata": {},
       "output_type": "display_data",
       "png": "[encoded data removed]",
       "text": [
        "<matplotlib.figure.Figure at 0x117bb9588>"
       ]
      }
     ],
     "prompt_number": 98
    },
    {
     "cell_type": "markdown",
     "metadata": {},
     "source": [
      "This does show something interesting in that people are still having a lot of trouble with their mortgages. "
     ]
    },
    {
     "cell_type": "heading",
     "level": 1,
     "metadata": {},
     "source": [
      "Different company responses to complaints."
     ]
    },
    {
     "cell_type": "code",
     "collapsed": false,
     "input": [
      "company_response = consumer_complaints[\"Company response\"].value_counts().plot(kind=\"bar\", figsize=(18, 6))\n",
      "plt.xlabel(\"Response to complaints\")\n",
      "plt.ylabel(\"Complaints\")"
     ],
     "language": "python",
     "metadata": {},
     "outputs": [
      {
       "metadata": {},
       "output_type": "pyout",
       "prompt_number": 99,
       "text": [
        "<matplotlib.text.Text at 0x117290d68>"
       ]
      },
      {
       "metadata": {},
       "output_type": "display_data",
       "png": "[encoded data removed]",
       "text": [
        "<matplotlib.figure.Figure at 0x117084908>"
       ]
      }
     ],
     "prompt_number": 99
    },
    {
     "cell_type": "markdown",
     "metadata": {},
     "source": [
      "This does show that most of the companies are able to explain the complaint versus no explanation. Though with explanation does not tell us muuch about what kind of explanation it was. It could just be a general form letter explanation or it could be a more indepth explanation that is a detailed response."
     ]
    },
    {
     "cell_type": "heading",
     "level": 1,
     "metadata": {},
     "source": [
      "The average number of complaints for each day of the week."
     ]
    },
    {
     "cell_type": "code",
     "collapsed": false,
     "input": [
      "weekday_counts = consumer_complaints.groupby(consumer_complaints.index.weekday).size()\n",
      "monday_mean = weekday_counts[0]/5\n",
      "tuesday_mean = weekday_counts[1]/5\n",
      "wednesday_mean = weekday_counts[2]/5\n",
      "thursday_mean = weekday_counts[3]/4\n",
      "friday_mean = weekday_counts[4]/4\n",
      "saturday_mean = weekday_counts[5]/4\n",
      "sunday_mean = weekday_counts[6]/4\n",
      "weekday_means = [monday_mean, tuesday_mean, wednesday_mean, thursday_mean, friday_mean, saturday_mean, sunday_mean]\n",
      "week_days = ['Monday', 'Tuesday', 'Wednesday', 'Thursday', 'Friday', 'Saturday', 'Sunday']\n",
      "data = Data([\n",
      "    Bar(\n",
      "        x=week_days,\n",
      "        y=weekday_means\n",
      "    )\n",
      "])\n",
      "py.iplot(data, filename='basic-bar')"
     ],
     "language": "python",
     "metadata": {},
     "outputs": [
      {
       "html": [
        "<iframe id=\"igraph\" scrolling=\"no\" style=\"border:none;\"seamless=\"seamless\" src=\"https://plot.ly/~Bodandly/4.embed\" height=\"525\" width=\"100%\"></iframe>"
       ],
       "metadata": {},
       "output_type": "pyout",
       "prompt_number": 96,
       "text": [
        "<plotly.tools.PlotlyDisplay at 0x11752e4e0>"
       ]
      }
     ],
     "prompt_number": 96
    },
    {
     "cell_type": "markdown",
     "metadata": {},
     "source": [
      "This shows that the day with the highest average of complaints was Tuesday for that month. Closely followed by Monday, and then less for the rest of the week."
     ]
    },
    {
     "cell_type": "code",
     "collapsed": false,
     "input": [
      "consumer_complaints['weekday'] = consumer_complaints.index.weekday\n",
      "consumer_complaints[:5]"
     ],
     "language": "python",
     "metadata": {},
     "outputs": [
      {
       "html": [
        "<div style=\"max-height:1000px;max-width:1500px;overflow:auto;\">\n",
        "<table border=\"1\" class=\"dataframe\">\n",
        "  <thead>\n",
        "    <tr style=\"text-align: right;\">\n",
        "      <th></th>\n",
        "      <th>Complaint ID</th>\n",
        "      <th>Product</th>\n",
        "      <th>Sub-product</th>\n",
        "      <th>Issue</th>\n",
        "      <th>Sub-issue</th>\n",
        "      <th>State</th>\n",
        "      <th>ZIP code</th>\n",
        "      <th>Submitted via</th>\n",
        "      <th>Date sent to company</th>\n",
        "      <th>Company</th>\n",
        "      <th>Company response</th>\n",
        "      <th>Timely response?</th>\n",
        "      <th>Consumer disputed?</th>\n",
        "      <th>weekday</th>\n",
        "    </tr>\n",
        "    <tr>\n",
        "      <th>Date received</th>\n",
        "      <th></th>\n",
        "      <th></th>\n",
        "      <th></th>\n",
        "      <th></th>\n",
        "      <th></th>\n",
        "      <th></th>\n",
        "      <th></th>\n",
        "      <th></th>\n",
        "      <th></th>\n",
        "      <th></th>\n",
        "      <th></th>\n",
        "      <th></th>\n",
        "      <th></th>\n",
        "      <th></th>\n",
        "    </tr>\n",
        "  </thead>\n",
        "  <tbody>\n",
        "    <tr>\n",
        "      <th>2014-12-31</th>\n",
        "      <td> 1177167</td>\n",
        "      <td> Debt collection</td>\n",
        "      <td> NaN</td>\n",
        "      <td> Cont'd attempts collect debt not owed</td>\n",
        "      <td> Debt is not mine</td>\n",
        "      <td> TX</td>\n",
        "      <td> 77068</td>\n",
        "      <td> Web</td>\n",
        "      <td> 12/31/2014</td>\n",
        "      <td>  Ad Astra Recovery Services Inc</td>\n",
        "      <td>         Closed with explanation</td>\n",
        "      <td> Yes</td>\n",
        "      <td> NaN</td>\n",
        "      <td> 2</td>\n",
        "    </tr>\n",
        "    <tr>\n",
        "      <th>2014-12-31</th>\n",
        "      <td> 1177166</td>\n",
        "      <td> Debt collection</td>\n",
        "      <td> NaN</td>\n",
        "      <td> Cont'd attempts collect debt not owed</td>\n",
        "      <td> Debt is not mine</td>\n",
        "      <td> TX</td>\n",
        "      <td> 77068</td>\n",
        "      <td> Web</td>\n",
        "      <td> 12/31/2014</td>\n",
        "      <td> Unique Management Services, Inc</td>\n",
        "      <td>         Closed with explanation</td>\n",
        "      <td> Yes</td>\n",
        "      <td> NaN</td>\n",
        "      <td> 2</td>\n",
        "    </tr>\n",
        "    <tr>\n",
        "      <th>2014-12-31</th>\n",
        "      <td> 1177165</td>\n",
        "      <td> Debt collection</td>\n",
        "      <td> NaN</td>\n",
        "      <td> Cont'd attempts collect debt not owed</td>\n",
        "      <td> Debt is not mine</td>\n",
        "      <td> TX</td>\n",
        "      <td> 77068</td>\n",
        "      <td> Web</td>\n",
        "      <td> 12/31/2014</td>\n",
        "      <td>                CL Holdings, LLC</td>\n",
        "      <td>     Closed with monetary relief</td>\n",
        "      <td> Yes</td>\n",
        "      <td> NaN</td>\n",
        "      <td> 2</td>\n",
        "    </tr>\n",
        "    <tr>\n",
        "      <th>2014-12-31</th>\n",
        "      <td> 1177164</td>\n",
        "      <td> Debt collection</td>\n",
        "      <td> NaN</td>\n",
        "      <td> Cont'd attempts collect debt not owed</td>\n",
        "      <td> Debt is not mine</td>\n",
        "      <td> TX</td>\n",
        "      <td> 77068</td>\n",
        "      <td> Web</td>\n",
        "      <td> 12/31/2014</td>\n",
        "      <td>  Enhanced Recovery Company, LLC</td>\n",
        "      <td> Closed with non-monetary relief</td>\n",
        "      <td> Yes</td>\n",
        "      <td> NaN</td>\n",
        "      <td> 2</td>\n",
        "    </tr>\n",
        "    <tr>\n",
        "      <th>2014-12-31</th>\n",
        "      <td> 1177163</td>\n",
        "      <td> Debt collection</td>\n",
        "      <td> NaN</td>\n",
        "      <td> Cont'd attempts collect debt not owed</td>\n",
        "      <td> Debt is not mine</td>\n",
        "      <td> TX</td>\n",
        "      <td> 77068</td>\n",
        "      <td> Web</td>\n",
        "      <td> 12/31/2014</td>\n",
        "      <td>      Enhanced Acquisitions, LLC</td>\n",
        "      <td>         Closed with explanation</td>\n",
        "      <td> Yes</td>\n",
        "      <td> NaN</td>\n",
        "      <td> 2</td>\n",
        "    </tr>\n",
        "  </tbody>\n",
        "</table>\n",
        "</div>"
       ],
       "metadata": {},
       "output_type": "pyout",
       "prompt_number": 84,
       "text": [
        "               Complaint ID          Product Sub-product  \\\n",
        "Date received                                              \n",
        "2014-12-31          1177167  Debt collection         NaN   \n",
        "2014-12-31          1177166  Debt collection         NaN   \n",
        "2014-12-31          1177165  Debt collection         NaN   \n",
        "2014-12-31          1177164  Debt collection         NaN   \n",
        "2014-12-31          1177163  Debt collection         NaN   \n",
        "\n",
        "                                               Issue         Sub-issue State  \\\n",
        "Date received                                                                  \n",
        "2014-12-31     Cont'd attempts collect debt not owed  Debt is not mine    TX   \n",
        "2014-12-31     Cont'd attempts collect debt not owed  Debt is not mine    TX   \n",
        "2014-12-31     Cont'd attempts collect debt not owed  Debt is not mine    TX   \n",
        "2014-12-31     Cont'd attempts collect debt not owed  Debt is not mine    TX   \n",
        "2014-12-31     Cont'd attempts collect debt not owed  Debt is not mine    TX   \n",
        "\n",
        "               ZIP code Submitted via Date sent to company  \\\n",
        "Date received                                                \n",
        "2014-12-31        77068           Web           12/31/2014   \n",
        "2014-12-31        77068           Web           12/31/2014   \n",
        "2014-12-31        77068           Web           12/31/2014   \n",
        "2014-12-31        77068           Web           12/31/2014   \n",
        "2014-12-31        77068           Web           12/31/2014   \n",
        "\n",
        "                                       Company  \\\n",
        "Date received                                    \n",
        "2014-12-31      Ad Astra Recovery Services Inc   \n",
        "2014-12-31     Unique Management Services, Inc   \n",
        "2014-12-31                    CL Holdings, LLC   \n",
        "2014-12-31      Enhanced Recovery Company, LLC   \n",
        "2014-12-31          Enhanced Acquisitions, LLC   \n",
        "\n",
        "                              Company response Timely response?  \\\n",
        "Date received                                                     \n",
        "2014-12-31             Closed with explanation              Yes   \n",
        "2014-12-31             Closed with explanation              Yes   \n",
        "2014-12-31         Closed with monetary relief              Yes   \n",
        "2014-12-31     Closed with non-monetary relief              Yes   \n",
        "2014-12-31             Closed with explanation              Yes   \n",
        "\n",
        "              Consumer disputed?  weekday  \n",
        "Date received                              \n",
        "2014-12-31                   NaN        2  \n",
        "2014-12-31                   NaN        2  \n",
        "2014-12-31                   NaN        2  \n",
        "2014-12-31                   NaN        2  \n",
        "2014-12-31                   NaN        2  "
       ]
      }
     ],
     "prompt_number": 84
    }
   ],
   "metadata": {}
  }
 ]
}